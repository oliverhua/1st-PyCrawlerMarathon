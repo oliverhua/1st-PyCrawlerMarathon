{
 "cells": [
  {
   "cell_type": "markdown",
   "metadata": {},
   "source": [
    "# 動態網頁爬蟲 - API Request\n",
    "\n",
    "* 了解 API Request 用於動態網頁爬蟲的原理\n",
    "* 能夠使用 API Request 撰寫動態網頁爬蟲\n",
    "\n",
    "\n",
    "\n",
    "\n"
   ]
  },
  {
   "cell_type": "markdown",
   "metadata": {},
   "source": [
    "## 作業目標\n",
    "\n",
    "\n",
    "* 根據範例使用 API 取出 高雄市小港區 2019 年 空氣品質 資料，並用一個適合的資料結構儲存\n",
    "* Hint: 將所有資料存在一個變數當中\n"
   ]
  },
  {
   "cell_type": "code",
   "execution_count": 1,
   "metadata": {},
   "outputs": [
    {
     "data": {
      "text/plain": "200"
     },
     "execution_count": 1,
     "metadata": {},
     "output_type": "execute_result"
    }
   ],
   "source": [
    "import requests\n",
    "url = 'https://taqm.epa.gov.tw/taqm/tw/MonthlyAverage.aspx'\n",
    "payload = {\n",
    "    'ScriptManager1':' ctl05$UpdatePanel1|ctl05$btnQuery',\n",
    "    '__VIEWSTATE':'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',\n",
    "'__VIEWSTATEGENERATOR':' 0C858E1A',\n",
    "'__EVENTVALIDATION':'t77BxKyXadYVNBfuA7tpwnGdv8qAJIr8LCibuTJntfynZ9Bt5LdWDSI9SMjnjTzHuNXxA9xBwxfhnCcV7CKLLzcAUENyZCrsdTVUw8yxpdpR1sj/nghBhtp3RuOk/cl/XUc+NNbsUOd+G9n1yQucN1jQG5Z0trKG1B8i0iDiOJbgrOF4+IqlwXibIERYnVk6qFvSZO0mZkOaE/ADj2BfCqtP+e/p1H/sEn7OZRg6ZgJt98TtWrNx+nub7Hi747UlIylHh7tbQpKkQIuF4feK8W0rivQbcTA7lRes3HZxHOmt7seLkT7xQaCRxyWspVIRolc5MrQQbb3YCV+ta1vFwIRMn/+aWB/72xYJWEpd7sYNvPR8qRr24aoD22AU/UulEO0nhm2/RddZxUsWOYqegHnG62ul4gmzhmM0Xk7Gl19Cq/NjibcncoiYynZcEPmjl23hNSSLGIzJbfYLQejqekaPlGnz1YmaAkCMET9gB4/BcVRTqlzycdf9BZugWLtqhVO87iv3Qm1CNQiVrSWcIKYtNp05J1P6CJV65lyr8HEElelB1VjDmS8Bkj5Xi09BT4UdT5cxgL9J/uB1rmPKoisEsSd8FQEO/BrCmZ7UssPcNJMgPgTTKa2ZUdq2Xnaf7bTaGjhCMgQnmSqmMzdhptfrqYY5z6FEyl29oNAJV8c7YRxhtBha6PoDeI9t6VC+xpY8ajl4+5hzgljlzfkNa/Vv7YSjYt+/pRcrF09mAqO2/FTWq+bJMHHKaK2lAeYebXyK4YT5NKY54uG0sKQtVMlaGzlxbv6B3CRVKD2rNvWBTCtr1v0NQmrzW2uuKyJ68CRV5XaPgWq/fcUC2i5eVMxTkTr//RSgkGUDc6znAL3uvmuh2xrJCmbgNZjhZT00gL11sI1Qr8Ui3fnE9JB5gJoX34DEFFiuS+TSyt4QUvx7ncwx3LmCKdQGoF5gPNHr3WOOvr4reBeRt9pIQgxQaLJCcKI=',\n",
    "'ctl05$ddlSite':'58',\n",
    "'ctl05$ddlYear':'2019',\n",
    "'SearchBox1$txtKeyword':' ',\n",
    "'ctl05$btnQuery':' 查詢'\n",
    "}\n",
    "r = requests.post(url, data=payload)\n",
    "r.status_code"
   ]
  },
  {
   "cell_type": "markdown",
   "metadata": {},
   "source": [
    "![](https://imgur.com/obLkbFe.jpg)"
   ]
  },
  {
   "cell_type": "code",
   "execution_count": 2,
   "metadata": {},
   "outputs": [
    {
     "name": "stdout",
     "output_type": "stream",
     "text": "<table align=\"Center\" border=\"1\" cellpadding=\"3\" cellspacing=\"0\" class=\"TABLE_G\" id=\"ctl05_gv\" rules=\"all\" style=\"border-color:Black;border-width:1px;border-style:None;border-collapse:collapse;\">\n<tr style=\"color:Black;font-weight:normal;\">\n<th scope=\"col\">監測項目</th><th scope=\"col\">單位</th><th scope=\"col\">監測日期</th><th scope=\"col\">監測值</th><th scope=\"col\">標註</th>\n</tr><tr style=\"color:Black;\">\n<td class=\"no-alt\" rowspan=\"12\" style=\"white-space:nowrap;\" valign=\"top\">SO2</td><td class=\"no-alt\" rowspan=\"12\" valign=\"top\">ppb</td><td>2019/01</td><td>4.10</td><td> </td>\n</tr><tr class=\"ALT\" style=\"color:Black;\">\n<td>2019/02</td><td>3.30</td><td> </td>\n</tr><tr style=\"color:Black;\">\n<td>2019/03</td><td>3.90</td><td> </td>\n</tr><tr class=\"ALT\" style=\"color:Black;\">\n<td>2019/04</td><td>3.40</td><td> </td>\n</tr><tr style=\"color:Black;\">\n<td>2019/05</td><td>3.30</td><td> </td>\n</tr><tr class=\"ALT\" style=\"color:Black;\">\n<td>2019/06</td><td>4.10</td><td> </td>\n</tr><tr style=\"color:Black;\">\n<td>2019/07</td><td>4</td><td> </td>\n</tr><tr class=\"ALT\" style=\"color:Black;\">\n<td>2019/08</td><td>4.60</td><td> </td>\n</tr><tr style=\"color:Black;\">\n<td>2019/09</td><td>3.50</td><td> </td>\n</tr><tr class=\"ALT\" style=\"color:Black;\">\n<td>2019/10</td><td>3.20</td><td> </td>\n</tr><tr style=\"color:Black;\">\n<td>2019/11</td><td>3.60</td><td> </td>\n</tr><tr class=\"ALT\" style=\"color:Black;\">\n<td>2019/12</td><td>3</td><td> </td>\n</tr><tr style=\"color:Black;\">\n<td class=\"no-alt\" rowspan=\"12\" style=\"white-space:nowrap;\" valign=\"top\">CO</td><td class=\"no-alt\" rowspan=\"12\" valign=\"top\">ppm</td><td>2019/01</td><td>0.67</td><td> </td>\n</tr><tr class=\"ALT\" style=\"color:Black;\">\n<td>2019/02</td><td>0.48</td><td> </td>\n</tr><tr style=\"color:Black;\">\n<td>2019/03</td><td>0.50</td><td> </td>\n</tr><tr class=\"ALT\" style=\"color:Black;\">\n<td>2019/04</td><td>0.39</td><td> </td>\n</tr><tr style=\"color:Black;\">\n<td>2019/05</td><td>0.38</td><td> </td>\n</tr><tr class=\"ALT\" style=\"color:Black;\">\n<td>2019/06</td><td>0.24</td><td> </td>\n</tr><tr style=\"color:Black;\">\n<td>2019/07</td><td>0.28</td><td> </td>\n</tr><tr class=\"ALT\" style=\"color:Black;\">\n<td>2019/08</td><td>0.33</td><td> </td>\n</tr><tr style=\"color:Black;\">\n<td>2019/09</td><td>0.32</td><td> </td>\n</tr><tr class=\"ALT\" style=\"color:Black;\">\n<td>2019/10</td><td>0.36</td><td> </td>\n</tr><tr style=\"color:Black;\">\n<td>2019/11</td><td>0.46</td><td> </td>\n</tr><tr class=\"ALT\" style=\"color:Black;\">\n<td>2019/12</td><td>0.54</td><td> </td>\n</tr><tr style=\"color:Black;\">\n<td class=\"no-alt\" rowspan=\"12\" style=\"white-space:nowrap;\" valign=\"top\">O3</td><td class=\"no-alt\" rowspan=\"12\" valign=\"top\">ppb</td><td>2019/01</td><td>24.70</td><td> </td>\n</tr><tr class=\"ALT\" style=\"color:Black;\">\n<td>2019/02</td><td>29.40</td><td> </td>\n</tr><tr style=\"color:Black;\">\n<td>2019/03</td><td>29.20</td><td> </td>\n</tr><tr class=\"ALT\" style=\"color:Black;\">\n<td>2019/04</td><td>30.40</td><td> </td>\n</tr><tr style=\"color:Black;\">\n<td>2019/05</td><td>28.60</td><td> </td>\n</tr><tr class=\"ALT\" style=\"color:Black;\">\n<td>2019/06</td><td>16.30</td><td> </td>\n</tr><tr style=\"color:Black;\">\n<td>2019/07</td><td>15.50</td><td> </td>\n</tr><tr class=\"ALT\" style=\"color:Black;\">\n<td>2019/08</td><td>19.70</td><td> </td>\n</tr><tr style=\"color:Black;\">\n<td>2019/09</td><td>35.70</td><td> </td>\n</tr><tr class=\"ALT\" style=\"color:Black;\">\n<td>2019/10</td><td>44</td><td> </td>\n</tr><tr style=\"color:Black;\">\n<td>2019/11</td><td>34.80</td><td> </td>\n</tr><tr class=\"ALT\" style=\"color:Black;\">\n<td>2019/12</td><td>22.30</td><td> </td>\n</tr><tr style=\"color:Black;\">\n<td class=\"no-alt\" rowspan=\"12\" style=\"white-space:nowrap;\" valign=\"top\">PM10</td><td class=\"no-alt\" rowspan=\"12\" valign=\"top\">μg/m3</td><td>2019/01</td><td>78</td><td> </td>\n</tr><tr class=\"ALT\" style=\"color:Black;\">\n<td>2019/02</td><td>57</td><td> </td>\n</tr><tr style=\"color:Black;\">\n<td>2019/03</td><td>52</td><td> </td>\n</tr><tr class=\"ALT\" style=\"color:Black;\">\n<td>2019/04</td><td>42</td><td> </td>\n</tr><tr style=\"color:Black;\">\n<td>2019/05</td><td>35</td><td> </td>\n</tr><tr class=\"ALT\" style=\"color:Black;\">\n<td>2019/06</td><td>20</td><td> </td>\n</tr><tr style=\"color:Black;\">\n<td>2019/07</td><td>24</td><td> </td>\n</tr><tr class=\"ALT\" style=\"color:Black;\">\n<td>2019/08</td><td>27</td><td> </td>\n</tr><tr style=\"color:Black;\">\n<td>2019/09</td><td>35</td><td> </td>\n</tr><tr class=\"ALT\" style=\"color:Black;\">\n<td>2019/10</td><td>50</td><td> </td>\n</tr><tr style=\"color:Black;\">\n<td>2019/11</td><td>63</td><td> </td>\n</tr><tr class=\"ALT\" style=\"color:Black;\">\n<td>2019/12</td><td>54</td><td> </td>\n</tr><tr style=\"color:Black;\">\n<td class=\"no-alt\" rowspan=\"12\" style=\"white-space:nowrap;\" valign=\"top\">NOx</td><td class=\"no-alt\" rowspan=\"12\" valign=\"top\">ppb</td><td>2019/01</td><td>38.01</td><td> </td>\n</tr><tr class=\"ALT\" style=\"color:Black;\">\n<td>2019/02</td><td>25.62</td><td> </td>\n</tr><tr style=\"color:Black;\">\n<td>2019/03</td><td>27.84</td><td> </td>\n</tr><tr class=\"ALT\" style=\"color:Black;\">\n<td>2019/04</td><td>21.83</td><td> </td>\n</tr><tr style=\"color:Black;\">\n<td>2019/05</td><td>22.55</td><td> </td>\n</tr><tr class=\"ALT\" style=\"color:Black;\">\n<td>2019/06</td><td>17.15</td><td> </td>\n</tr><tr style=\"color:Black;\">\n<td>2019/07</td><td>17.71</td><td> </td>\n</tr><tr class=\"ALT\" style=\"color:Black;\">\n<td>2019/08</td><td>19.66</td><td> </td>\n</tr><tr style=\"color:Black;\">\n<td>2019/09</td><td>18.66</td><td> </td>\n</tr><tr class=\"ALT\" style=\"color:Black;\">\n<td>2019/10</td><td>19.50</td><td> </td>\n</tr><tr style=\"color:Black;\">\n<td>2019/11</td><td>28.99</td><td> </td>\n</tr><tr class=\"ALT\" style=\"color:Black;\">\n<td>2019/12</td><td>33.84</td><td> </td>\n</tr><tr style=\"color:Black;\">\n<td class=\"no-alt\" rowspan=\"12\" style=\"white-space:nowrap;\" valign=\"top\">NO</td><td class=\"no-alt\" rowspan=\"12\" valign=\"top\">ppb</td><td>2019/01</td><td>7.95</td><td> </td>\n</tr><tr class=\"ALT\" style=\"color:Black;\">\n<td>2019/02</td><td>4.76</td><td> </td>\n</tr><tr style=\"color:Black;\">\n<td>2019/03</td><td>5.41</td><td> </td>\n</tr><tr class=\"ALT\" style=\"color:Black;\">\n<td>2019/04</td><td>4.16</td><td> </td>\n</tr><tr style=\"color:Black;\">\n<td>2019/05</td><td>4.58</td><td> </td>\n</tr><tr class=\"ALT\" style=\"color:Black;\">\n<td>2019/06</td><td>5.08</td><td> </td>\n</tr><tr style=\"color:Black;\">\n<td>2019/07</td><td>5.16</td><td> </td>\n</tr><tr class=\"ALT\" style=\"color:Black;\">\n<td>2019/08</td><td>5.17</td><td> </td>\n</tr><tr style=\"color:Black;\">\n<td>2019/09</td><td>3.63</td><td> </td>\n</tr><tr class=\"ALT\" style=\"color:Black;\">\n<td>2019/10</td><td>3.50</td><td> </td>\n</tr><tr style=\"color:Black;\">\n<td>2019/11</td><td>5.21</td><td> </td>\n</tr><tr class=\"ALT\" style=\"color:Black;\">\n<td>2019/12</td><td>7.83</td><td> </td>\n</tr><tr style=\"color:Black;\">\n<td class=\"no-alt\" rowspan=\"12\" style=\"white-space:nowrap;\" valign=\"top\">NO2</td><td class=\"no-alt\" rowspan=\"12\" valign=\"top\">ppb</td><td>2019/01</td><td>30.06</td><td> </td>\n</tr><tr class=\"ALT\" style=\"color:Black;\">\n<td>2019/02</td><td>20.86</td><td> </td>\n</tr><tr style=\"color:Black;\">\n<td>2019/03</td><td>22.43</td><td> </td>\n</tr><tr class=\"ALT\" style=\"color:Black;\">\n<td>2019/04</td><td>17.68</td><td> </td>\n</tr><tr style=\"color:Black;\">\n<td>2019/05</td><td>17.98</td><td> </td>\n</tr><tr class=\"ALT\" style=\"color:Black;\">\n<td>2019/06</td><td>12.08</td><td> </td>\n</tr><tr style=\"color:Black;\">\n<td>2019/07</td><td>12.54</td><td> </td>\n</tr><tr class=\"ALT\" style=\"color:Black;\">\n<td>2019/08</td><td>14.49</td><td> </td>\n</tr><tr style=\"color:Black;\">\n<td>2019/09</td><td>15.03</td><td> </td>\n</tr><tr class=\"ALT\" style=\"color:Black;\">\n<td>2019/10</td><td>15.99</td><td> </td>\n</tr><tr style=\"color:Black;\">\n<td>2019/11</td><td>23.78</td><td> </td>\n</tr><tr class=\"ALT\" style=\"color:Black;\">\n<td>2019/12</td><td>26</td><td> </td>\n</tr><tr style=\"color:Black;\">\n<td class=\"no-alt\" rowspan=\"12\" style=\"white-space:nowrap;\" valign=\"top\">THC</td><td class=\"no-alt\" rowspan=\"12\" valign=\"top\">ppm</td><td>2019/01</td><td>2.27</td><td> </td>\n</tr><tr class=\"ALT\" style=\"color:Black;\">\n<td>2019/02</td><td>2.11</td><td> </td>\n</tr><tr style=\"color:Black;\">\n<td>2019/03</td><td>2.12</td><td> </td>\n</tr><tr class=\"ALT\" style=\"color:Black;\">\n<td>2019/04</td><td>2.02</td><td> </td>\n</tr><tr style=\"color:Black;\">\n<td>2019/05</td><td>2.02</td><td> </td>\n</tr><tr class=\"ALT\" style=\"color:Black;\">\n<td>2019/06</td><td>1.92</td><td> </td>\n</tr><tr style=\"color:Black;\">\n<td>2019/07</td><td>1.93</td><td> </td>\n</tr><tr class=\"ALT\" style=\"color:Black;\">\n<td>2019/08</td><td>1.97</td><td> </td>\n</tr><tr style=\"color:Black;\">\n<td>2019/09</td><td>1.98</td><td> </td>\n</tr><tr class=\"ALT\" style=\"color:Black;\">\n<td>2019/10</td><td>2.05</td><td> </td>\n</tr><tr style=\"color:Black;\">\n<td>2019/11</td><td>2.15</td><td> </td>\n</tr><tr class=\"ALT\" style=\"color:Black;\">\n<td>2019/12</td><td>2.18</td><td> </td>\n</tr><tr style=\"color:Black;\">\n<td class=\"no-alt\" rowspan=\"12\" style=\"white-space:nowrap;\" valign=\"top\">NMHC</td><td class=\"no-alt\" rowspan=\"12\" valign=\"top\">ppm</td><td>2019/01</td><td>0.27</td><td> </td>\n</tr><tr class=\"ALT\" style=\"color:Black;\">\n<td>2019/02</td><td>0.17</td><td> </td>\n</tr><tr style=\"color:Black;\">\n<td>2019/03</td><td>0.18</td><td> </td>\n</tr><tr class=\"ALT\" style=\"color:Black;\">\n<td>2019/04</td><td>0.14</td><td> </td>\n</tr><tr style=\"color:Black;\">\n<td>2019/05</td><td>0.16</td><td> </td>\n</tr><tr class=\"ALT\" style=\"color:Black;\">\n<td>2019/06</td><td>0.13</td><td> </td>\n</tr><tr style=\"color:Black;\">\n<td>2019/07</td><td>0.14</td><td> </td>\n</tr><tr class=\"ALT\" style=\"color:Black;\">\n<td>2019/08</td><td>0.15</td><td> </td>\n</tr><tr style=\"color:Black;\">\n<td>2019/09</td><td>0.13</td><td> </td>\n</tr><tr class=\"ALT\" style=\"color:Black;\">\n<td>2019/10</td><td>0.13</td><td> </td>\n</tr><tr style=\"color:Black;\">\n<td>2019/11</td><td>0.21</td><td> </td>\n</tr><tr class=\"ALT\" style=\"color:Black;\">\n<td>2019/12</td><td>0.23</td><td> </td>\n</tr><tr style=\"color:Black;\">\n<td class=\"no-alt\" rowspan=\"12\" style=\"white-space:nowrap;\" valign=\"top\">CH4</td><td class=\"no-alt\" rowspan=\"12\" valign=\"top\">ppm</td><td>2019/01</td><td>2</td><td> </td>\n</tr><tr class=\"ALT\" style=\"color:Black;\">\n<td>2019/02</td><td>1.94</td><td> </td>\n</tr><tr style=\"color:Black;\">\n<td>2019/03</td><td>1.94</td><td> </td>\n</tr><tr class=\"ALT\" style=\"color:Black;\">\n<td>2019/04</td><td>1.88</td><td> </td>\n</tr><tr style=\"color:Black;\">\n<td>2019/05</td><td>1.86</td><td> </td>\n</tr><tr class=\"ALT\" style=\"color:Black;\">\n<td>2019/06</td><td>1.79</td><td> </td>\n</tr><tr style=\"color:Black;\">\n<td>2019/07</td><td>1.80</td><td> </td>\n</tr><tr class=\"ALT\" style=\"color:Black;\">\n<td>2019/08</td><td>1.82</td><td> </td>\n</tr><tr style=\"color:Black;\">\n<td>2019/09</td><td>1.86</td><td> </td>\n</tr><tr class=\"ALT\" style=\"color:Black;\">\n<td>2019/10</td><td>1.92</td><td> </td>\n</tr><tr style=\"color:Black;\">\n<td>2019/11</td><td>1.94</td><td> </td>\n</tr><tr class=\"ALT\" style=\"color:Black;\">\n<td>2019/12</td><td>1.95</td><td> </td>\n</tr>\n</table>\n"
    }
   ],
   "source": [
    "from bs4 import BeautifulSoup\n",
    "\n",
    "soup = BeautifulSoup(r.text, 'lxml')\n",
    "table = soup.find('table', class_='TABLE_G')\n",
    "print(table)"
   ]
  },
  {
   "cell_type": "code",
   "execution_count": 3,
   "metadata": {},
   "outputs": [
    {
     "name": "stdout",
     "output_type": "stream",
     "text": "{'SO2': {'2019/01': '4.10', '2019/02': '3.30', '2019/03': '3.90', '2019/04': '3.40', '2019/05': '3.30', '2019/06': '4.10', '2019/07': '4', '2019/08': '4.60', '2019/09': '3.50', '2019/10': '3.20', '2019/11': '3.60', '2019/12': '3'}, 'CO': {'2019/01': '0.67', '2019/02': '0.48', '2019/03': '0.50', '2019/04': '0.39', '2019/05': '0.38', '2019/06': '0.24', '2019/07': '0.28', '2019/08': '0.33', '2019/09': '0.32', '2019/10': '0.36', '2019/11': '0.46', '2019/12': '0.54'}, 'O3': {'2019/01': '24.70', '2019/02': '29.40', '2019/03': '29.20', '2019/04': '30.40', '2019/05': '28.60', '2019/06': '16.30', '2019/07': '15.50', '2019/08': '19.70', '2019/09': '35.70', '2019/10': '44', '2019/11': '34.80', '2019/12': '22.30'}, 'PM10': {'2019/01': '78', '2019/02': '57', '2019/03': '52', '2019/04': '42', '2019/05': '35', '2019/06': '20', '2019/07': '24', '2019/08': '27', '2019/09': '35', '2019/10': '50', '2019/11': '63', '2019/12': '54'}, 'NOx': {'2019/01': '38.01', '2019/02': '25.62', '2019/03': '27.84', '2019/04': '21.83', '2019/05': '22.55', '2019/06': '17.15', '2019/07': '17.71', '2019/08': '19.66', '2019/09': '18.66', '2019/10': '19.50', '2019/11': '28.99', '2019/12': '33.84'}, 'NO': {'2019/01': '7.95', '2019/02': '4.76', '2019/03': '5.41', '2019/04': '4.16', '2019/05': '4.58', '2019/06': '5.08', '2019/07': '5.16', '2019/08': '5.17', '2019/09': '3.63', '2019/10': '3.50', '2019/11': '5.21', '2019/12': '7.83'}, 'NO2': {'2019/01': '30.06', '2019/02': '20.86', '2019/03': '22.43', '2019/04': '17.68', '2019/05': '17.98', '2019/06': '12.08', '2019/07': '12.54', '2019/08': '14.49', '2019/09': '15.03', '2019/10': '15.99', '2019/11': '23.78', '2019/12': '26'}, 'THC': {'2019/01': '2.27', '2019/02': '2.11', '2019/03': '2.12', '2019/04': '2.02', '2019/05': '2.02', '2019/06': '1.92', '2019/07': '1.93', '2019/08': '1.97', '2019/09': '1.98', '2019/10': '2.05', '2019/11': '2.15', '2019/12': '2.18'}, 'NMHC': {'2019/01': '0.27', '2019/02': '0.17', '2019/03': '0.18', '2019/04': '0.14', '2019/05': '0.16', '2019/06': '0.13', '2019/07': '0.14', '2019/08': '0.15', '2019/09': '0.13', '2019/10': '0.13', '2019/11': '0.21', '2019/12': '0.23'}, 'CH4': {'2019/01': '2', '2019/02': '1.94', '2019/03': '1.94', '2019/04': '1.88', '2019/05': '1.86', '2019/06': '1.79', '2019/07': '1.80', '2019/08': '1.82', '2019/09': '1.86', '2019/10': '1.92', '2019/11': '1.94', '2019/12': '1.95'}}\n"
    }
   ],
   "source": [
    "trs = table.findAll(\"tr\")\n",
    "dic = {}\n",
    "now = \"\"\n",
    "for tr in trs:\n",
    "    tds = tr.findAll(\"td\")\n",
    "    if len(tds) == 5:\n",
    "        now = tds[0].string\n",
    "        dic[now]={}\n",
    "        dic[now][tds[2].string]=tds[3].string\n",
    "    elif len(tds) == 3:\n",
    "        dic[now][tds[0].string]=tds[1].string\n",
    "    # for td in tds:\n",
    "    #     print(td.string)\n",
    "print(dic)"
   ]
  },
  {
   "cell_type": "code",
   "execution_count": 4,
   "metadata": {},
   "outputs": [
    {
     "data": {
      "text/html": "<div>\n<style scoped>\n    .dataframe tbody tr th:only-of-type {\n        vertical-align: middle;\n    }\n\n    .dataframe tbody tr th {\n        vertical-align: top;\n    }\n\n    .dataframe thead th {\n        text-align: right;\n    }\n</style>\n<table border=\"1\" class=\"dataframe\">\n  <thead>\n    <tr style=\"text-align: right;\">\n      <th></th>\n      <th>SO2</th>\n      <th>CO</th>\n      <th>O3</th>\n      <th>PM10</th>\n      <th>NOx</th>\n      <th>NO</th>\n      <th>NO2</th>\n      <th>THC</th>\n      <th>NMHC</th>\n      <th>CH4</th>\n    </tr>\n  </thead>\n  <tbody>\n    <tr>\n      <th>2019/01</th>\n      <td>4.10</td>\n      <td>0.67</td>\n      <td>24.70</td>\n      <td>78</td>\n      <td>38.01</td>\n      <td>7.95</td>\n      <td>30.06</td>\n      <td>2.27</td>\n      <td>0.27</td>\n      <td>2</td>\n    </tr>\n    <tr>\n      <th>2019/02</th>\n      <td>3.30</td>\n      <td>0.48</td>\n      <td>29.40</td>\n      <td>57</td>\n      <td>25.62</td>\n      <td>4.76</td>\n      <td>20.86</td>\n      <td>2.11</td>\n      <td>0.17</td>\n      <td>1.94</td>\n    </tr>\n    <tr>\n      <th>2019/03</th>\n      <td>3.90</td>\n      <td>0.50</td>\n      <td>29.20</td>\n      <td>52</td>\n      <td>27.84</td>\n      <td>5.41</td>\n      <td>22.43</td>\n      <td>2.12</td>\n      <td>0.18</td>\n      <td>1.94</td>\n    </tr>\n    <tr>\n      <th>2019/04</th>\n      <td>3.40</td>\n      <td>0.39</td>\n      <td>30.40</td>\n      <td>42</td>\n      <td>21.83</td>\n      <td>4.16</td>\n      <td>17.68</td>\n      <td>2.02</td>\n      <td>0.14</td>\n      <td>1.88</td>\n    </tr>\n    <tr>\n      <th>2019/05</th>\n      <td>3.30</td>\n      <td>0.38</td>\n      <td>28.60</td>\n      <td>35</td>\n      <td>22.55</td>\n      <td>4.58</td>\n      <td>17.98</td>\n      <td>2.02</td>\n      <td>0.16</td>\n      <td>1.86</td>\n    </tr>\n    <tr>\n      <th>2019/06</th>\n      <td>4.10</td>\n      <td>0.24</td>\n      <td>16.30</td>\n      <td>20</td>\n      <td>17.15</td>\n      <td>5.08</td>\n      <td>12.08</td>\n      <td>1.92</td>\n      <td>0.13</td>\n      <td>1.79</td>\n    </tr>\n    <tr>\n      <th>2019/07</th>\n      <td>4</td>\n      <td>0.28</td>\n      <td>15.50</td>\n      <td>24</td>\n      <td>17.71</td>\n      <td>5.16</td>\n      <td>12.54</td>\n      <td>1.93</td>\n      <td>0.14</td>\n      <td>1.80</td>\n    </tr>\n    <tr>\n      <th>2019/08</th>\n      <td>4.60</td>\n      <td>0.33</td>\n      <td>19.70</td>\n      <td>27</td>\n      <td>19.66</td>\n      <td>5.17</td>\n      <td>14.49</td>\n      <td>1.97</td>\n      <td>0.15</td>\n      <td>1.82</td>\n    </tr>\n    <tr>\n      <th>2019/09</th>\n      <td>3.50</td>\n      <td>0.32</td>\n      <td>35.70</td>\n      <td>35</td>\n      <td>18.66</td>\n      <td>3.63</td>\n      <td>15.03</td>\n      <td>1.98</td>\n      <td>0.13</td>\n      <td>1.86</td>\n    </tr>\n    <tr>\n      <th>2019/10</th>\n      <td>3.20</td>\n      <td>0.36</td>\n      <td>44</td>\n      <td>50</td>\n      <td>19.50</td>\n      <td>3.50</td>\n      <td>15.99</td>\n      <td>2.05</td>\n      <td>0.13</td>\n      <td>1.92</td>\n    </tr>\n    <tr>\n      <th>2019/11</th>\n      <td>3.60</td>\n      <td>0.46</td>\n      <td>34.80</td>\n      <td>63</td>\n      <td>28.99</td>\n      <td>5.21</td>\n      <td>23.78</td>\n      <td>2.15</td>\n      <td>0.21</td>\n      <td>1.94</td>\n    </tr>\n    <tr>\n      <th>2019/12</th>\n      <td>3</td>\n      <td>0.54</td>\n      <td>22.30</td>\n      <td>54</td>\n      <td>33.84</td>\n      <td>7.83</td>\n      <td>26</td>\n      <td>2.18</td>\n      <td>0.23</td>\n      <td>1.95</td>\n    </tr>\n  </tbody>\n</table>\n</div>",
      "text/plain": "          SO2    CO     O3 PM10    NOx    NO    NO2   THC  NMHC   CH4\n2019/01  4.10  0.67  24.70   78  38.01  7.95  30.06  2.27  0.27     2\n2019/02  3.30  0.48  29.40   57  25.62  4.76  20.86  2.11  0.17  1.94\n2019/03  3.90  0.50  29.20   52  27.84  5.41  22.43  2.12  0.18  1.94\n2019/04  3.40  0.39  30.40   42  21.83  4.16  17.68  2.02  0.14  1.88\n2019/05  3.30  0.38  28.60   35  22.55  4.58  17.98  2.02  0.16  1.86\n2019/06  4.10  0.24  16.30   20  17.15  5.08  12.08  1.92  0.13  1.79\n2019/07     4  0.28  15.50   24  17.71  5.16  12.54  1.93  0.14  1.80\n2019/08  4.60  0.33  19.70   27  19.66  5.17  14.49  1.97  0.15  1.82\n2019/09  3.50  0.32  35.70   35  18.66  3.63  15.03  1.98  0.13  1.86\n2019/10  3.20  0.36     44   50  19.50  3.50  15.99  2.05  0.13  1.92\n2019/11  3.60  0.46  34.80   63  28.99  5.21  23.78  2.15  0.21  1.94\n2019/12     3  0.54  22.30   54  33.84  7.83     26  2.18  0.23  1.95"
     },
     "execution_count": 4,
     "metadata": {},
     "output_type": "execute_result"
    }
   ],
   "source": [
    "import pandas as pd\n",
    "pd.DataFrame(dic)"
   ]
  },
  {
   "cell_type": "code",
   "execution_count": null,
   "metadata": {},
   "outputs": [],
   "source": []
  },
  {
   "cell_type": "code",
   "execution_count": null,
   "metadata": {},
   "outputs": [],
   "source": []
  }
 ],
 "metadata": {
  "kernelspec": {
   "display_name": "Python 3",
   "language": "python",
   "name": "python3"
  },
  "language_info": {
   "codemirror_mode": {
    "name": "ipython",
    "version": 3
   },
   "file_extension": ".py",
   "mimetype": "text/x-python",
   "name": "python",
   "nbconvert_exporter": "python",
   "pygments_lexer": "ipython3",
   "version": "3.7.6-final"
  }
 },
 "nbformat": 4,
 "nbformat_minor": 2
}