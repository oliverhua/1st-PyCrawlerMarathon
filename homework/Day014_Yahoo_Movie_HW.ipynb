{
 "cells": [
  {
   "cell_type": "markdown",
   "metadata": {},
   "source": [
    "# YAHOO電影爬蟲練習\n",
    "## 練習爬取電影放映資訊。必須逐步獲取電影的代號、放映地區、放映日期後，再送出查詢給伺服器。"
   ]
  },
  {
   "cell_type": "code",
   "execution_count": 1,
   "metadata": {},
   "outputs": [],
   "source": [
    "import requests\n",
    "import re\n",
    "from bs4 import BeautifulSoup"
   ]
  },
  {
   "cell_type": "markdown",
   "metadata": {},
   "source": [
    "### 先搜尋全部的電影代號(ID)資訊"
   ]
  },
  {
   "cell_type": "code",
   "execution_count": 2,
   "metadata": {},
   "outputs": [
    {
     "name": "stdout",
     "output_type": "stream",
     "text": "Movie: 鬼魅之家, ID: 10459\nMovie: 熱帶雨, ID: 10448\nMovie: 吸血黏土, ID: 10439\nMovie: 只想受到你的歡迎, ID: 10411\nMovie: 大整形家, ID: 10395\nMovie: 王牌辯士, ID: 10346\nMovie: 紅鞋公主與七矮人, ID: 10417\nMovie: 黑水風暴, ID: 10398\nMovie: 1917, ID: 10189\nMovie: 我們的7日戰爭, ID: 10453\nMovie: 肥龍過江, ID: 10449\nMovie: 殺手撿到槍, ID: 10423\nMovie: 你的情歌, ID: 10407\nMovie: 紳士追殺令, ID: 10317\nMovie: 杜立德, ID: 10316\nMovie: 喜從天降, ID: 10123\nMovie: 深海終劫站, ID: 10230\nMovie: 她們, ID: 10202\nMovie: 變身特務, ID: 9008\nMovie: 然後我們跳了舞, ID: 10451\nMovie: 巧虎電影：英雄遊樂園, ID: 10429\nMovie: 在黑暗中漫舞：20週年數位修復版, ID: 10428\nMovie: 哥哥戀愛了，我怎麼辦！？, ID: 10414\nMovie: 青春催落去, ID: 10404\nMovie: 不完美的正義, ID: 10243\nMovie: 絕地戰警FOR LIFE, ID: 10242\nMovie: 惡靈20, ID: 10444\nMovie: 重磅腥聞, ID: 10320\nMovie: 真愛裁會贏, ID: 10362\nMovie: 兔嘲男孩, ID: 10283\nMovie: 海上鋼琴師4K數位修復, ID: 10425\nMovie: 倒數計死, ID: 10390\nMovie: 霹靂嬌娃, ID: 10124\nMovie: 白頭山：半島浩劫, ID: 10354\nMovie: 茱蒂, ID: 10112\nMovie: 燃燒女子的畫像, ID: 10069\nMovie: 葉問4：完結篇, ID: 9890\nMovie: STAR WARS : 天行者的崛起, ID: 10225\nMovie: 黑熊來了, ID: 10357\nMovie: 特約經紀公司, ID: 10364\nMovie: 野蠻遊戲：全面晉級, ID: 10134\nMovie: 布魯克林孤兒, ID: 10224\nMovie: 暴走曼哈頓, ID: 10044\nMovie: 鋒迴路轉, ID: 10258\nMovie: 賽道狂人, ID: 10097\nMovie: 冰雪奇緣2, ID: 9597\nMovie: 萬萬沒想到, ID: 10281\nMovie: 救火奶爸, ID: 10164\nMovie: 決戰中途島, ID: 10130\nMovie: 安眠醫生, ID: 10098\nMovie: 魔鬼終結者：黑暗宿命, ID: 10067\nMovie: 阿達一族, ID: 9992\nMovie: 雙子殺手, ID: 10017\nMovie: 黑魔女2, ID: 10262\nMovie: 仙戒奇緣, ID: 10211\nMovie: 無間行動, ID: 10155\nMovie: 囧媽的極地任務, ID: 7772\nMovie: 返校, ID: 10109\nMovie: 天氣之子, ID: 10091\nMovie: 從前，有個好萊塢, ID: 9884\nMovie: 獅子王, ID: 9116\nMovie: 寄生上流, ID: 10020\nMovie: 玩具總動員4, ID: 9924\nMovie: 毀滅者, ID: 9405\nMovie: 庫爾斯克號：深海救援, ID: 9134\nMovie: 厄夜追緝令, ID: 9589\nMovie: 苦兒流浪記, ID: 9538\nMovie: 活個精彩, ID: 9394\nMovie: 限時好友, ID: 9578\nMovie: 祝你忌日快樂, ID: 9568\nMovie: 艾莉塔：戰鬥天使, ID: 8553\nMovie: 馴龍高手3, ID: 8350\nMovie: 幸福綠皮書, ID: 9150\nMovie: 一首搖滾上月球, ID: 4887\nMovie: 錢不夠用2, ID: 3026\n"
    }
   ],
   "source": [
    "# 查看目前上映那些電影，並擷取出其ID資訊\n",
    "url = 'https://movies.yahoo.com.tw/'\n",
    "resp = requests.get(url)\n",
    "resp.encoding = 'utf-8'\n",
    "\n",
    "soup = BeautifulSoup(resp.text, 'lxml')\n",
    "html = soup.find(\"select\", attrs={'name':'movie_id'})\n",
    "movie_item = html.findAll(\"option\", attrs={'data-name':re.compile('.*')})\n",
    "\n",
    "for p in movie_item:\n",
    "    print(\"Movie: %s, ID: %s\" % (p[\"data-name\"], p[\"value\"]))"
   ]
  },
  {
   "cell_type": "markdown",
   "metadata": {},
   "source": [
    "### 指定你有興趣的電影其ID，然後查詢其放映地區資訊。"
   ]
  },
  {
   "cell_type": "code",
   "execution_count": 3,
   "metadata": {},
   "outputs": [],
   "source": [
    "# 參考前一個步驟中擷取到的ID資訊，並指定ID\n",
    "movie_id = 10189"
   ]
  },
  {
   "cell_type": "code",
   "execution_count": 4,
   "metadata": {},
   "outputs": [
    {
     "name": "stdout",
     "output_type": "stream",
     "text": "放映地區: 台北市, 代號(area_id): 28\n放映地區: 新北市, 代號(area_id): 8\n放映地區: 桃園, 代號(area_id): 16\n放映地區: 新竹, 代號(area_id): 20\n放映地區: 苗栗, 代號(area_id): 15\n放映地區: 台中, 代號(area_id): 2\n放映地區: 台南, 代號(area_id): 10\n放映地區: 高雄, 代號(area_id): 17\n"
    }
   ],
   "source": [
    "url = 'https://movies.yahoo.com.tw/api/v1/areas_by_movie_theater'\n",
    "payload = {'movie_id':str(movie_id)}\n",
    "\n",
    "# 模擬一個header\n",
    "headers = {\n",
    "    'mv-authorization': '21835b082e15b91a69b3851eec7b31b82ce82afb',\n",
    "}\n",
    "    \n",
    "# resp = requests.get(url, params=payload)\n",
    "resp = requests.get(url, params=payload, headers=headers)\n",
    "# print(resp.json())  # 若有需要，列印出json原始碼\n",
    "\n",
    "# 這裡回傳的格式是JSON格式的資料，要解析JSON擷取資料\n",
    "for p in resp.json():\n",
    "    print('放映地區: {0}, 代號(area_id): {1}'.format(p['title'], p['area_id']))"
   ]
  },
  {
   "cell_type": "markdown",
   "metadata": {},
   "source": [
    "### 指定你想要觀看的放映地區，查詢有上映電影的場次日期"
   ]
  },
  {
   "cell_type": "code",
   "execution_count": 5,
   "metadata": {},
   "outputs": [],
   "source": [
    "# 指定放映地區\n",
    "area_id = 28"
   ]
  },
  {
   "cell_type": "code",
   "execution_count": 6,
   "metadata": {},
   "outputs": [
    {
     "name": "stdout",
     "output_type": "stream",
     "text": "二月 5\n二月 6\n二月 7\n二月 8\n二月 9\n"
    }
   ],
   "source": [
    "# 向網站發送請求\n",
    "url = 'https://movies.yahoo.com.tw/movietime_result.html'\n",
    "payload = {'movie_id':str(movie_id), 'area_id':str(area_id)}\n",
    "resp = requests.get(url, params=payload)\n",
    "resp.encoding = 'utf-8'\n",
    "\n",
    "soup = BeautifulSoup(resp.text, 'lxml')\n",
    "movie_date = soup.find_all(\"label\", attrs={'for':re.compile(\"date_.\")})\n",
    "\n",
    "# 列印播放日期\n",
    "for date in movie_date:\n",
    "    print(\"%s %s\" % (date.p.string, date.h3.string))"
   ]
  },
  {
   "cell_type": "markdown",
   "metadata": {},
   "source": [
    "### 最後指定觀看的日期，查詢並列印出放映的電影院、放映類型(數位、3D、IMAX 3D...)、放映時間等資訊。"
   ]
  },
  {
   "cell_type": "code",
   "execution_count": 7,
   "metadata": {},
   "outputs": [],
   "source": [
    "# 選定要觀看的日期\n",
    "date = \"2020-02-06\""
   ]
  },
  {
   "cell_type": "code",
   "execution_count": 8,
   "metadata": {},
   "outputs": [
    {
     "name": "stdout",
     "output_type": "stream",
     "text": "f6ab8e\"\n                        data-date=\"1580918400\" data-time=\"1580987400\"\n                        data-movie_type=\"數位\"\n                        data-movie_title=\"1917\"\n                        data-movie_date=\"02.06\"\n                        data-movie_time=\"19:10\"\n                        data-ga=\"['電影頁_時刻表', '電影頁_時刻表_場次', '1917']\" data-ezding=\"ezding\"\n                        />\n                    <label for=\"72882741\" class=\"select\">19:10</label>\n                                               </div>\n           </li>\n          </ul>\n      <ul id=\"theater_id_144\" class=\"area_time _c jq_area_time\" data-theater_name=\"台北新民生戲院\" data-theater_url=\"http://www.newminshen.com/\" data-theater_schedules=\"https://movies.yahoo.com.tw/theater_result.html/id=144\" >\n       <li class=\"adds\">\n           <a href=\"https://movies.yahoo.com.tw/theater_result.html/id=144\">台北新民生戲院</a>\n           <span>02-27653373</span>\n       </li>\n                         <li class=\"taps\">\n                <span class=\"tapR\">數位</span>                           </li>\n           <li class=\"time _c\">\n               <div class=\"input_picker jq_input_picker\">\n                                                                   <input type=\"radio\" name=\"schedule_list\" id=\"72887257\" class=\"gabtn\"\n                        value=\"2020-02-06 10:40:00\"  data-movie=\"eb44079298b94231803afd3fa915c580\"\n                        data-cinema=\"4c163aba9c5311e494ae8b4ddf78b93a\" data-session=\"e2fb9e2c8d07429b8841f3945765607d\"\n                        data-date=\"1580918400\" data-time=\"1580956800\"\n                        data-movie_type=\"數位\"\n                        data-movie_title=\"1917\"\n                        data-movie_date=\"02.06\"\n                        data-movie_time=\"10:40\"\n                        data-ga=\"['電影頁_時刻表', '電影頁_時刻表_場次', '1917']\" data-ezding=\"ezding\"\n                        />\n                    <label for=\"72887257\" class=\"select\">10:40</label>\n                                                                                    <input type=\"radio\" name=\"schedule_list\" id=\"72887258\" class=\"gabtn\"\n                        value=\"2020-02-06 14:45:00\"  data-movie=\"eb44079298b94231803afd3fa915c580\"\n                        data-cinema=\"4c163aba9c5311e494ae8b4ddf78b93a\" data-session=\"d612a97c232e41eab087e72d29f4fffa\"\n                        data-date=\"1580918400\" data-time=\"1580971500\"\n                        data-movie_type=\"數位\"\n                        data-movie_title=\"1917\"\n                        data-movie_date=\"02.06\"\n                        data-movie_time=\"14:45\"\n                        data-ga=\"['電影頁_時刻表', '電影頁_時刻表_場次', '1917']\" data-ezding=\"ezding\"\n                        />\n                    <label for=\"72887258\" class=\"select\">14:45</label>\n                                                                                    <input type=\"radio\" name=\"schedule_list\" id=\"72887259\" class=\"gabtn\"\n                        value=\"2020-02-06 19:00:00\"  data-movie=\"eb44079298b94231803afd3fa915c580\"\n                        data-cinema=\"4c163aba9c5311e494ae8b4ddf78b93a\" data-session=\"c560b2a4dd2b42a9a60bdabfa1a51555\"\n                        data-date=\"1580918400\" data-time=\"1580986800\"\n                        data-movie_type=\"數位\"\n                        data-movie_title=\"1917\"\n                        data-movie_date=\"02.06\"\n                        data-movie_time=\"19:00\"\n                        data-ga=\"['電影頁_時刻表', '電影頁_時刻表_場次', '1917']\" data-ezding=\"ezding\"\n                        />\n                    <label for=\"72887259\" class=\"select\">19:00</label>\n                                               </div>\n           </li>\n          </ul>\n      <ul id=\"theater_id_186\" class=\"area_time _c jq_area_time\" data-theater_name=\"喜樂時代影城南港店\" data-theater_url=\"http://www.centuryasia.com.tw/default.aspx\" data-theater_schedules=\"https://movies.yahoo.com.tw/theater_result.html/id=186\" >\n       <li class=\"adds\">\n           <a href=\"https://movies.yahoo.com.tw/theater_result.html/id=186\">喜樂時代影城南港店</a>\n           <span>02-27888185</span>\n       </li>\n                         <li class=\"taps\">\n                <span class=\"tapR\">數位</span>                           </li>\n           <li class=\"time _c\">\n               <div class=\"input_picker jq_input_picker\">\n                                                                   <input type=\"radio\" name=\"schedule_list\" id=\"72883520\" class=\"gabtn\"\n                        value=\"2020-02-06 10:20:00\"  data-movie=\"d7ef45a87eed4d84a6c0f25f44234e7a\"\n                        data-cinema=\"40288eb0050f542401050f5681782dc5\" data-session=\"dcfcb6d2630c42f99c19c3c68f694193\"\n                        data-date=\"1580918400\" data-time=\"1580955600\"\n                        data-movie_type=\"數位\"\n                        data-movie_title=\"1917\"\n                        data-movie_date=\"02.06\"\n                        data-movie_time=\"10:20\"\n                        data-ga=\"['電影頁_時刻表', '電影頁_時刻表_場次', '1917']\" data-ezding=\"ezding\"\n                        />\n                    <label for=\"72883520\" class=\"select\">10:20</label>\n                                                                                    <input type=\"radio\" name=\"schedule_list\" id=\"72883521\" class=\"gabtn\"\n                        value=\"2020-02-06 11:30:00\"  data-movie=\"d7ef45a87eed4d84a6c0f25f44234e7a\"\n                        data-cinema=\"40288eb0050f542401050f5681782dc5\" data-session=\"30a36446eb8e47319fe7e92d71badaa6\"\n                        data-date=\"1580918400\" data-time=\"1580959800\"\n                        data-movie_type=\"數位\"\n                        data-movie_title=\"1917\"\n                        data-movie_date=\"02.06\"\n                        data-movie_time=\"11:30\"\n                        data-ga=\"['電影頁_時刻表', '電影頁_時刻表_場次', '1917']\" data-ezding=\"ezding\"\n                        />\n                    <label for=\"72883521\" class=\"select\">11:30</label>\n                                                                                    <input type=\"radio\" name=\"schedule_list\" id=\"72883522\" class=\"gabtn\"\n                        value=\"2020-02-06 12:40:00\"  data-movie=\"d7ef45a87eed4d84a6c0f25f44234e7a\"\n                        data-cinema=\"40288eb0050f542401050f5681782dc5\" data-session=\"c1186e775c8a4d6292838780c3e9cc8a\"\n                        data-date=\"1580918400\" data-time=\"1580964000\"\n                        data-movie_type=\"數位\"\n                        data-movie_title=\"1917\"\n                        data-movie_date=\"02.06\"\n                        data-movie_time=\"12:40\"\n                        data-ga=\"['電影頁_時刻表', '電影頁_時刻表_場次', '1917']\" data-ezding=\"ezding\"\n                        />\n                    <label for=\"72883522\" class=\"select\">12:40</label>\n                                                                                    <input type=\"radio\" name=\"schedule_list\" id=\"72883523\" class=\"gabtn\"\n                        value=\"2020-02-06 13:50:00\"  data-movie=\"d7ef45a87eed4d84a6c0f25f44234e7a\"\n                        data-cinema=\"40288eb0050f542401050f5681782dc5\" data-session=\"86acfa81628e4f2ca2283593657a63e0\"\n                        data-date=\"1580918400\" data-time=\"1580968200\"\n                        data-movie_type=\"數位\"\n                        data-movie_title=\"1917\"\n                        data-movie_date=\"02.06\"\n                        data-movie_time=\"13:50\"\n                        data-ga=\"['電影頁_時刻表', '電影頁_時刻表_場次', '1917']\" data-ezding=\"ezding\"\n                        />\n                    <label for=\"72883523\" class=\"select\">13:50</label>\n                                                                                    <input type=\"radio\" name=\"schedule_list\" id=\"72883524\" class=\"gabtn\"\n                        value=\"2020-02-06 15:00:00\"  data-movie=\"d7ef45a87eed4d84a6c0f25f44234e7a\"\n                        data-cinema=\"40288eb0050f542401050f5681782dc5\" data-session=\"f03d0fbc2a464dbc8d298a395252c215\"\n                        data-date=\"1580918400\" data-time=\"1580972400\"\n                        data-movie_type=\"數位\"\n                        data-movie_title=\"1917\"\n                        data-movie_date=\"02.06\"\n                        data-movie_time=\"15:00\"\n                        data-ga=\"['電影頁_時刻表', '電影頁_時刻表_場次', '1917']\" data-ezding=\"ezding\"\n                        />\n                    <label for=\"72883524\" class=\"select\">15:00</label>\n                                                                                    <input type=\"radio\" name=\"schedule_list\" id=\"72883525\" class=\"gabtn\"\n                        value=\"2020-02-06 16:10:00\"  data-movie=\"d7ef45a87eed4d84a6c0f25f44234e7a\"\n                        data-cinema=\"40288eb0050f542401050f5681782dc5\" data-session=\"f3253656a50a4f1bb7b0a17f3592142d\"\n                        data-date=\"1580918400\" data-time=\"1580976600\"\n                        data-movie_type=\"數位\"\n                        data-movie_title=\"1917\"\n                        data-movie_date=\"02.06\"\n                        data-movie_time=\"16:10\"\n                        data-ga=\"['電影頁_時刻表', '電影頁_時刻表_場次', '1917']\" data-ezding=\"ezding\"\n                        />\n                    <label for=\"72883525\" class=\"select\">16:10</label>\n                                                                                    <input type=\"radio\" name=\"schedule_list\" id=\"72883526\" class=\"gabtn\"\n                        value=\"2020-02-06 17:20:00\"  data-movie=\"d7ef45a87eed4d84a6c0f25f44234e7a\"\n                        data-cinema=\"40288eb0050f542401050f5681782dc5\" data-session=\"7240dad1aa3c419d89c1bcfe4a432c5a\"\n                        data-date=\"1580918400\" data-time=\"1580980800\"\n                        data-movie_type=\"數位\"\n                        data-movie_title=\"1917\"\n                        data-movie_date=\"02.06\"\n                        data-movie_time=\"17:20\"\n                        data-ga=\"['電影頁_時刻表', '電影頁_時刻表_場次', '1917']\" data-ezding=\"ezding\"\n                        />\n                    <label for=\"72883526\" class=\"select\">17:20</label>\n                                                                                    <input type=\"radio\" name=\"schedule_list\" id=\"72883527\" class=\"gabtn\"\n                        value=\"2020-02-06 18:00:00\"  data-movie=\"d7ef45a87eed4d84a6c0f25f44234e7a\"\n                        data-cinema=\"40288eb0050f542401050f5681782dc5\" data-session=\"7a5f44a3e5d844f7be61e03ce87162c5\"\n                        data-date=\"1580918400\" data-time=\"1580983200\"\n                        data-movie_type=\"數位\"\n                        data-movie_title=\"1917\"\n                        data-movie_date=\"02.06\"\n                        data-movie_time=\"18:00\"\n                        data-ga=\"['電影頁_時刻表', '電影頁_時刻表_場次', '1917']\" data-ezding=\"ezding\"\n                        />\n                    <label for=\"72883527\" class=\"select\">18:00</label>\n                                                                                    <input type=\"radio\" name=\"schedule_list\" id=\"72883528\" class=\"gabtn\"\n                        value=\"2020-02-06 18:35:00\"  data-movie=\"d7ef45a87eed4d84a6c0f25f44234e7a\"\n                        data-cinema=\"40288eb0050f542401050f5681782dc5\" data-session=\"5edef6a01ba9478ebc19fc73d0f24666\"\n                        data-date=\"1580918400\" data-time=\"1580985300\"\n                        data-movie_type=\"數位\"\n                        data-movie_title=\"1917\"\n                        data-movie_date=\"02.06\"\n                        data-movie_time=\"18:35\"\n                        data-ga=\"['電影頁_時刻表', '電影頁_時刻表_場次', '1917']\" data-ezding=\"ezding\"\n                        />\n                    <label for=\"72883528\" class=\"select\">18:35</label>\n                                                                                    <input type=\"radio\" name=\"schedule_list\" id=\"72883529\" class=\"gabtn\"\n                        value=\"2020-02-06 19:35:00\"  data-movie=\"d7ef45a87eed4d84a6c0f25f44234e7a\"\n                        data-cinema=\"40288eb0050f542401050f5681782dc5\" data-session=\"d086d7c534674a408a7e9855ab82f0d7\"\n                        data-date=\"1580918400\" data-time=\"1580988900\"\n                        data-movie_type=\"數位\"\n                        data-movie_title=\"1917\"\n                        data-movie_date=\"02.06\"\n                        data-movie_time=\"19:35\"\n                        data-ga=\"['電影頁_時刻表', '電影頁_時刻表_場次', '1917']\" data-ezding=\"ezding\"\n                        />\n                    <label for=\"72883529\" class=\"select\">19:35</label>\n                                                                                    <input type=\"radio\" name=\"schedule_list\" id=\"72883530\" class=\"gabtn\"\n                        value=\"2020-02-06 20:15:00\"  data-movie=\"d7ef45a87eed4d84a6c0f25f44234e7a\"\n                        data-cinema=\"40288eb0050f542401050f5681782dc5\" data-session=\"ff6e55c150084159a162f4ee25c23b22\"\n                        data-date=\"1580918400\" data-time=\"1580991300\"\n                        data-movie_type=\"數位\"\n                        data-movie_title=\"1917\"\n                        data-movie_date=\"02.06\"\n                        data-movie_time=\"20:15\"\n                        data-ga=\"['電影頁_時刻表', '電影頁_時刻表_場次', '1917']\" data-ezding=\"ezding\"\n                        />\n                    <label for=\"72883530\" class=\"select\">20:15</label>\n                                                                                    <input type=\"radio\" name=\"schedule_list\" id=\"72883531\" class=\"gabtn\"\n                        value=\"2020-02-06 20:55:00\"  data-movie=\"d7ef45a87eed4d84a6c0f25f44234e7a\"\n                        data-cinema=\"40288eb0050f542401050f5681782dc5\" data-session=\"177600cbd4274944986c27efc0d8fad9\"\n                        data-date=\"1580918400\" data-time=\"1580993700\"\n                        data-movie_type=\"數位\"\n                        data-movie_title=\"1917\"\n                        data-movie_date=\"02.06\"\n                        data-movie_time=\"20:55\"\n                        data-ga=\"['電影頁_時刻表', '電影頁_時刻表_場次', '1917']\" data-ezding=\"ezding\"\n                        />\n                    <label for=\"72883531\" class=\"select\">20:55</label>\n                                                                                    <input type=\"radio\" name=\"schedule_list\" id=\"72883532\" class=\"gabtn\"\n                        value=\"2020-02-06 21:50:00\"  data-movie=\"d7ef45a87eed4d84a6c0f25f44234e7a\"\n                        data-cinema=\"40288eb0050f542401050f5681782dc5\" data-session=\"8048a2e5190e471d881da09be037f0a7\"\n                        data-date=\"1580918400\" data-time=\"1580997000\"\n                        data-movie_type=\"數位\"\n                        data-movie_title=\"1917\"\n                        data-movie_date=\"02.06\"\n                        data-movie_time=\"21:50\"\n                        data-ga=\"['電影頁_時刻表', '電影頁_時刻表_場次', '1917']\" data-ezding=\"ezding\"\n                        />\n                    <label for=\"72883532\" class=\"select\">21:50</label>\n                                                                                    <input type=\"radio\" name=\"schedule_list\" id=\"72883533\" class=\"gabtn\"\n                        value=\"2020-02-06 22:30:00\"  data-movie=\"d7ef45a87eed4d84a6c0f25f44234e7a\"\n                        data-cinema=\"40288eb0050f542401050f5681782dc5\" data-session=\"4f9485ff6f6549a793e1a6331062fe76\"\n                        data-date=\"1580918400\" data-time=\"1580999400\"\n                        data-movie_type=\"數位\"\n                        data-movie_title=\"1917\"\n                        data-movie_date=\"02.06\"\n                        data-movie_time=\"22:30\"\n                        data-ga=\"['電影頁_時刻表', '電影頁_時刻表_場次', '1917']\" data-ezding=\"ezding\"\n                        />\n                    <label for=\"72883533\" class=\"select\">22:30</label>\n                                                                                    <input type=\"radio\" name=\"schedule_list\" id=\"72883534\" class=\"gabtn\"\n                        value=\"2020-02-06 23:15:00\"  data-movie=\"d7ef45a87eed4d84a6c0f25f44234e7a\"\n                        data-cinema=\"40288eb0050f542401050f5681782dc5\" data-session=\"e3d4f01461ea4af694a1137452925d42\"\n                        data-date=\"1580918400\" data-time=\"1581002100\"\n                        data-movie_type=\"數位\"\n                        data-movie_title=\"1917\"\n                        data-movie_date=\"02.06\"\n                        data-movie_time=\"23:15\"\n                        data-ga=\"['電影頁_時刻表', '電影頁_時刻表_場次', '1917']\" data-ezding=\"ezding\"\n                        />\n                    <label for=\"72883534\" class=\"select\">23:15</label>\n                                               </div>\n           </li>\n          </ul>\n   </div>\n\n    <div class=\"booking_modal jq_booking_modal\">\n    <div class=\"booking_modal_backdrop\"></div>\n    <!-- 時報訂票 ＆ 有官網訂票 新增 class => no_seats -->\n    <div class=\"booking_modal_content jq_booking_modal_content\">\n        <form method=\"get\" action=\"https://movies.yahoo.com.tw/ticket/ezding_ticket\" target=\"_blank\" id=\"form_schedule\">\n                <div class=\"ezding_ticket_value\">\n            <input type=\"hidden\" name=\"movie_id\" value=\"\">\n            <input type=\"hidden\" name=\"cinema_id\" value=\"\">\n            <input type=\"hidden\" name=\"session_id\" value=\"\">\n            <input type=\"hidden\" name=\"date\" value=\"\">\n            <input type=\"hidden\" name=\"time\" value=\"\">\n            <input type=\"hidden\" name=\"campaign_code\" value=\"yahoopc\">\n        </div>\n        <ul class=\"top_infos\">\n            <li>\n                <p>片名</p>\n                <h3 id=\"top_infos_movie\"></h3>\n            </li>\n            <li>\n                <p>影城</p>\n                <h3 id=\"top_infos_theater\"></h3>\n            </li>\n            <li>\n                <p>日期</p>\n                <h3 id=\"top_infos_date\"></h3>\n            </li>\n            <li>\n                <p>版本</p>\n                <h3 id=\"top_infos_movie_type\"></h3>\n            </li>\n            <li>\n                <p>時間</p>\n                <h3 id=\"top_infos_time\"></h3>\n            </li>\n        </ul>\n        \n        <div class=\"booking_seats\">\n            <a href=\"#\" class=\"theater_schedules gabtn\" data-ga=\"['電影頁_時刻表', '電影頁_時刻表_一般戲院_全部電影場次', '']\">全部電影場次</a>\n            <a href=\"#\" class=\"theater_url gabtn\" data-ga=\"['電影頁_時刻表', '電影頁_時刻表_一般戲院_官網訂票', '']\" target=\"_blank\">官網訂票</a>\n            <p id=\"no_theater_url\" class=\"no_theater_url\">無提供官網訂票</p>\n\n            <p id=\"booking_number\" class=\"booking_number\">人數</p>\n            <div class=\"booking_seat_group jq_booking_seat_group\">\n                                    <input type=\"radio\" name=\"tickets\" id=\"seat_1\" value=\"1\" />\n                    <label for=\"seat_1\">1</label>\n                                    <input type=\"radio\" name=\"tickets\" id=\"seat_2\" value=\"2\"  checked />\n                    <label for=\"seat_2\">2</label>\n                                    <input type=\"radio\" name=\"tickets\" id=\"seat_3\" value=\"3\" />\n                    <label for=\"seat_3\">3</label>\n                                    <input type=\"radio\" name=\"tickets\" id=\"seat_4\" value=\"4\" />\n                    <label for=\"seat_4\">4</label>\n                                    <input type=\"radio\" name=\"tickets\" id=\"seat_5\" value=\"5\" />\n                    <label for=\"seat_5\">5</label>\n                                    <input type=\"radio\" name=\"tickets\" id=\"seat_6\" value=\"6\" />\n                    <label for=\"seat_6\">6</label>\n                            </div>\n            <button type=\"submit\" class=\"action_btn action_booking_btn jq_booking_btn gabtn\" data-ga=\"['電影頁_時刻表', '電影頁_時刻表_一般戲院_選位', '']\">選位</button>\n            <a href=\"#\" class=\"action_btn action_link jq_booking_link gabtn\" data-ga=\"['電影頁_時刻表', '電影頁_時刻表_時報戲院_官網選位', '']\" target=\"_blank\">官網訂票</a>\n            <button type=\"button\" class=\"action_btn close jq_close_booking_btn\">關閉</button>\n        </div>\n        </form>\n\n        <!-- 無官網訂票區塊 -->\n        <div class=\"no_theater_section\">\n            <p>無提供官網訂票</p>\n            <button type=\"button\" class=\"action_btn close jq_close_booking_btn\">關閉</button>\n        </div>\n    </div>\n</div></div>\n"
    }
   ],
   "source": [
    "# 向網站發送請求，獲取上映的電影院及時間資訊\n",
    "url = \"https://movies.yahoo.com.tw/ajax/pc/get_schedule_by_movie\"\n",
    "payload = {'movie_id':str(movie_id),\n",
    "           'date':date,\n",
    "           'area_id':str(area_id)}\n",
    "\n",
    "resp = requests.get(url, params=payload)\n",
    "print(resp.json()['view'])  # 若有需要，列印出json原始碼\n",
    "\n",
    "soup = BeautifulSoup(resp.json()['view'], 'lxml')\n",
    "html = soup.find_all(\"ul\", attrs={'data-theater_name':re.compile(\".*\")})"
   ]
  },
  {
   "cell_type": "code",
   "execution_count": 9,
   "metadata": {},
   "outputs": [
    {
     "name": "stdout",
     "output_type": "stream",
     "text": "台北真善美劇院\n數位\n12:40\n14:40\n19:00\n喜滿客絕色影城\n數位\n10:30\n14:45\n17:00\n19:15\n21:30\n22:45\n23:45\n梅花數位影院\n數位\n10:00\n14:30\n19:10\n台北新民生戲院\n數位\n10:40\n14:45\n19:00\n喜樂時代影城南港店\n數位\n10:20\n11:30\n12:40\n13:50\n15:00\n16:10\n17:20\n18:00\n18:35\n19:35\n20:15\n20:55\n21:50\n22:30\n23:15\n"
    }
   ],
   "source": [
    "# print(html)\n",
    "for i in html:\n",
    "  t = i.find(class_=\"tapR\").string\n",
    "  times = i.findAll(class_=\"gabtn\")\n",
    "  print(i[\"data-theater_name\"])\n",
    "  print(t)\n",
    "  for time in times:\n",
    "    print(time[\"data-movie_time\"]) \n",
    "  "
   ]
  },
  {
   "cell_type": "code",
   "execution_count": null,
   "metadata": {},
   "outputs": [],
   "source": []
  }
 ],
 "metadata": {
  "kernelspec": {
   "display_name": "Python 3",
   "language": "python",
   "name": "python3"
  },
  "language_info": {
   "codemirror_mode": {
    "name": "ipython",
    "version": 3
   },
   "file_extension": ".py",
   "mimetype": "text/x-python",
   "name": "python",
   "nbconvert_exporter": "python",
   "pygments_lexer": "ipython3",
   "version": "3.7.5-final"
  }
 },
 "nbformat": 4,
 "nbformat_minor": 2
}