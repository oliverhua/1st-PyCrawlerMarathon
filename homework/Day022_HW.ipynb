{
 "cells": [
  {
   "cell_type": "markdown",
   "metadata": {},
   "source": [
    "# 空氣污染監測網 網路爬蟲實作練習\n",
    "\n",
    "\n",
    "* 能夠利用 selenium + BeautifulSoup 撰寫爬蟲，並存放到合適的資料結構\n"
   ]
  },
  {
   "cell_type": "markdown",
   "metadata": {},
   "source": [
    "## 作業目標\n",
    "\n",
    "根據範例 ，完成以下問題：\n",
    "\n",
    "* ① 取出 台北市士林區 2018/01 – 2018/08 的 SO2 資料\n",
    "* ② 取出 台北市士林區 2018/01 – 2018/08 的 SO2、CO 資料\n",
    "\n",
    "\n",
    "\n"
   ]
  },
  {
   "cell_type": "markdown",
   "metadata": {},
   "source": [
    "### ① 取出 台北市士林區 2018/01 – 2018/08 的 SO2 資料"
   ]
  },
  {
   "cell_type": "code",
   "execution_count": 1,
   "metadata": {},
   "outputs": [],
   "source": [
    "from selenium import webdriver\n",
    "from selenium.webdriver.support.ui import Select\n",
    "from bs4 import BeautifulSoup\n",
    "import time\n",
    "browser = webdriver.Chrome(executable_path='chromedriver')\n",
    "browser.get(\"http://taqm.epa.gov.tw/taqm/tw/MonthlyAverage.aspx\")\n",
    "\n",
    "selectSite = Select(browser.find_element_by_id(\"ctl05_ddlSite\"))\n",
    "selectSite.select_by_value('11')\n",
    "selectYear = Select(browser.find_element_by_id(\"ctl05_ddlYear\"))\n",
    "selectYear.select_by_value('2018')\n",
    "\n",
    "browser.find_element_by_id('ctl05_btnQuery').click()\n"
   ]
  },
  {
   "cell_type": "code",
   "execution_count": 2,
   "metadata": {},
   "outputs": [
    {
     "name": "stdout",
     "output_type": "stream",
     "text": "<table align=\"Center\" border=\"1\" cellpadding=\"3\" cellspacing=\"0\" class=\"TABLE_G\" id=\"ctl05_gv\" rules=\"all\" style=\"border-color:Black;border-width:1px;border-style:None;border-collapse:collapse;\">\n<tbody><tr style=\"color:Black;font-weight:normal;\">\n<th scope=\"col\">監測項目</th><th scope=\"col\">單位</th><th scope=\"col\">監測日期</th><th scope=\"col\">監測值</th><th scope=\"col\">標註</th>\n</tr><tr style=\"color:Black;\">\n<td class=\"no-alt\" rowspan=\"12\" style=\"white-space:nowrap;\" valign=\"top\">SO2</td><td class=\"no-alt\" rowspan=\"12\" valign=\"top\">ppb</td><td>2018/01</td><td>1.80</td><td> </td>\n</tr><tr class=\"ALT\" style=\"color:Black;\">\n<td>2018/02</td><td>1.90</td><td> </td>\n</tr><tr style=\"color:Black;\">\n<td>2018/03</td><td>2.20</td><td> </td>\n</tr><tr class=\"ALT\" style=\"color:Black;\">\n<td>2018/04</td><td>2.30</td><td> </td>\n</tr><tr style=\"color:Black;\">\n<td>2018/05</td><td>3.10</td><td> </td>\n</tr><tr class=\"ALT\" style=\"color:Black;\">\n<td>2018/06</td><td>2.70</td><td> </td>\n</tr><tr style=\"color:Black;\">\n<td>2018/07</td><td>2.20</td><td> </td>\n</tr><tr class=\"ALT\" style=\"color:Black;\">\n<td>2018/08</td><td>2.40</td><td> </td>\n</tr><tr style=\"color:Black;\">\n<td>2018/09</td><td>2.10</td><td> </td>\n</tr><tr class=\"ALT\" style=\"color:Black;\">\n<td>2018/10</td><td>1.70</td><td> </td>\n</tr><tr style=\"color:Black;\">\n<td>2018/11</td><td>1.90</td><td> </td>\n</tr><tr class=\"ALT\" style=\"color:Black;\">\n<td>2018/12</td><td>1.80</td><td> </td>\n</tr><tr style=\"color:Black;\">\n<td class=\"no-alt\" rowspan=\"12\" style=\"white-space:nowrap;\" valign=\"top\">CO</td><td class=\"no-alt\" rowspan=\"12\" valign=\"top\">ppm</td><td>2018/01</td><td>0.34</td><td> </td>\n</tr><tr class=\"ALT\" style=\"color:Black;\">\n<td>2018/02</td><td>0.44</td><td> </td>\n</tr><tr style=\"color:Black;\">\n<td>2018/03</td><td>0.40</td><td> </td>\n</tr><tr class=\"ALT\" style=\"color:Black;\">\n<td>2018/04</td><td>0.38</td><td> </td>\n</tr><tr style=\"color:Black;\">\n<td>2018/05</td><td>0.34</td><td> </td>\n</tr><tr class=\"ALT\" style=\"color:Black;\">\n<td>2018/06</td><td>0.29</td><td> </td>\n</tr><tr style=\"color:Black;\">\n<td>2018/07</td><td>0.21</td><td> </td>\n</tr><tr class=\"ALT\" style=\"color:Black;\">\n<td>2018/08</td><td>0.30</td><td> </td>\n</tr><tr style=\"color:Black;\">\n<td>2018/09</td><td>0.26</td><td> </td>\n</tr><tr class=\"ALT\" style=\"color:Black;\">\n<td>2018/10</td><td>0.29</td><td> </td>\n</tr><tr style=\"color:Black;\">\n<td>2018/11</td><td>0.30</td><td> </td>\n</tr><tr class=\"ALT\" style=\"color:Black;\">\n<td>2018/12</td><td>0.35</td><td> </td>\n</tr><tr style=\"color:Black;\">\n<td class=\"no-alt\" rowspan=\"12\" style=\"white-space:nowrap;\" valign=\"top\">O3</td><td class=\"no-alt\" rowspan=\"12\" valign=\"top\">ppb</td><td>2018/01</td><td>33.40</td><td> </td>\n</tr><tr class=\"ALT\" style=\"color:Black;\">\n<td>2018/02</td><td>32.50</td><td> </td>\n</tr><tr style=\"color:Black;\">\n<td>2018/03</td><td>35</td><td> </td>\n</tr><tr class=\"ALT\" style=\"color:Black;\">\n<td>2018/04</td><td>38.40</td><td> </td>\n</tr><tr style=\"color:Black;\">\n<td>2018/05</td><td>31.60</td><td> </td>\n</tr><tr class=\"ALT\" style=\"color:Black;\">\n<td>2018/06</td><td>29.50</td><td> </td>\n</tr><tr style=\"color:Black;\">\n<td>2018/07</td><td>18.70</td><td> </td>\n</tr><tr class=\"ALT\" style=\"color:Black;\">\n<td>2018/08</td><td>26.40</td><td> </td>\n</tr><tr style=\"color:Black;\">\n<td>2018/09</td><td>29.10</td><td> </td>\n</tr><tr class=\"ALT\" style=\"color:Black;\">\n<td>2018/10</td><td>45.90</td><td> </td>\n</tr><tr style=\"color:Black;\">\n<td>2018/11</td><td>32.40</td><td> </td>\n</tr><tr class=\"ALT\" style=\"color:Black;\">\n<td>2018/12</td><td>30.70</td><td> </td>\n</tr><tr style=\"color:Black;\">\n<td class=\"no-alt\" rowspan=\"12\" style=\"white-space:nowrap;\" valign=\"top\">PM10</td><td class=\"no-alt\" rowspan=\"12\" valign=\"top\">μg/m3</td><td>2018/01</td><td>23</td><td> </td>\n</tr><tr class=\"ALT\" style=\"color:Black;\">\n<td>2018/02</td><td>41</td><td> </td>\n</tr><tr style=\"color:Black;\">\n<td>2018/03</td><td>39</td><td> </td>\n</tr><tr class=\"ALT\" style=\"color:Black;\">\n<td>2018/04</td><td>48</td><td> </td>\n</tr><tr style=\"color:Black;\">\n<td>2018/05</td><td>37</td><td> </td>\n</tr><tr class=\"ALT\" style=\"color:Black;\">\n<td>2018/06</td><td>26</td><td> </td>\n</tr><tr style=\"color:Black;\">\n<td>2018/07</td><td>24</td><td> </td>\n</tr><tr class=\"ALT\" style=\"color:Black;\">\n<td>2018/08</td><td>26</td><td> </td>\n</tr><tr style=\"color:Black;\">\n<td>2018/09</td><td>28</td><td> </td>\n</tr><tr class=\"ALT\" style=\"color:Black;\">\n<td>2018/10</td><td>33</td><td> </td>\n</tr><tr style=\"color:Black;\">\n<td>2018/11</td><td>25</td><td> </td>\n</tr><tr class=\"ALT\" style=\"color:Black;\">\n<td>2018/12</td><td>21</td><td> </td>\n</tr><tr style=\"color:Black;\">\n<td class=\"no-alt\" rowspan=\"12\" style=\"white-space:nowrap;\" valign=\"top\">NOx</td><td class=\"no-alt\" rowspan=\"12\" valign=\"top\">ppb</td><td>2018/01</td><td>14.17</td><td> </td>\n</tr><tr class=\"ALT\" style=\"color:Black;\">\n<td>2018/02</td><td>19.43</td><td> </td>\n</tr><tr style=\"color:Black;\">\n<td>2018/03</td><td>18.50</td><td> </td>\n</tr><tr class=\"ALT\" style=\"color:Black;\">\n<td>2018/04</td><td>15.24</td><td> </td>\n</tr><tr style=\"color:Black;\">\n<td>2018/05</td><td>15.20</td><td> </td>\n</tr><tr class=\"ALT\" style=\"color:Black;\">\n<td>2018/06</td><td>13.79</td><td> </td>\n</tr><tr style=\"color:Black;\">\n<td>2018/07</td><td>11.60</td><td> </td>\n</tr><tr class=\"ALT\" style=\"color:Black;\">\n<td>2018/08</td><td>14.75</td><td> </td>\n</tr><tr style=\"color:Black;\">\n<td>2018/09</td><td>12.40</td><td> </td>\n</tr><tr class=\"ALT\" style=\"color:Black;\">\n<td>2018/10</td><td>12.45</td><td> </td>\n</tr><tr style=\"color:Black;\">\n<td>2018/11</td><td>13.41</td><td> </td>\n</tr><tr class=\"ALT\" style=\"color:Black;\">\n<td>2018/12</td><td>14.56</td><td> </td>\n</tr><tr style=\"color:Black;\">\n<td class=\"no-alt\" rowspan=\"12\" style=\"white-space:nowrap;\" valign=\"top\">NO</td><td class=\"no-alt\" rowspan=\"12\" valign=\"top\">ppb</td><td>2018/01</td><td>3.41</td><td> </td>\n</tr><tr class=\"ALT\" style=\"color:Black;\">\n<td>2018/02</td><td>4.48</td><td> </td>\n</tr><tr style=\"color:Black;\">\n<td>2018/03</td><td>4.93</td><td> </td>\n</tr><tr class=\"ALT\" style=\"color:Black;\">\n<td>2018/04</td><td>2.60</td><td> </td>\n</tr><tr style=\"color:Black;\">\n<td>2018/05</td><td>2.26</td><td> </td>\n</tr><tr class=\"ALT\" style=\"color:Black;\">\n<td>2018/06</td><td>2.41</td><td> </td>\n</tr><tr style=\"color:Black;\">\n<td>2018/07</td><td>2.68</td><td> </td>\n</tr><tr class=\"ALT\" style=\"color:Black;\">\n<td>2018/08</td><td>2.68</td><td> </td>\n</tr><tr style=\"color:Black;\">\n<td>2018/09</td><td>2.41</td><td> </td>\n</tr><tr class=\"ALT\" style=\"color:Black;\">\n<td>2018/10</td><td>2.13</td><td> </td>\n</tr><tr style=\"color:Black;\">\n<td>2018/11</td><td>2.71</td><td> </td>\n</tr><tr class=\"ALT\" style=\"color:Black;\">\n<td>2018/12</td><td>3.42</td><td> </td>\n</tr><tr style=\"color:Black;\">\n<td class=\"no-alt\" rowspan=\"12\" style=\"white-space:nowrap;\" valign=\"top\">NO2</td><td class=\"no-alt\" rowspan=\"12\" valign=\"top\">ppb</td><td>2018/01</td><td>10.77</td><td> </td>\n</tr><tr class=\"ALT\" style=\"color:Black;\">\n<td>2018/02</td><td>14.95</td><td> </td>\n</tr><tr style=\"color:Black;\">\n<td>2018/03</td><td>13.56</td><td> </td>\n</tr><tr class=\"ALT\" style=\"color:Black;\">\n<td>2018/04</td><td>12.64</td><td> </td>\n</tr><tr style=\"color:Black;\">\n<td>2018/05</td><td>12.94</td><td> </td>\n</tr><tr class=\"ALT\" style=\"color:Black;\">\n<td>2018/06</td><td>11.38</td><td> </td>\n</tr><tr style=\"color:Black;\">\n<td>2018/07</td><td>8.92</td><td> </td>\n</tr><tr class=\"ALT\" style=\"color:Black;\">\n<td>2018/08</td><td>12.08</td><td> </td>\n</tr><tr style=\"color:Black;\">\n<td>2018/09</td><td>10</td><td> </td>\n</tr><tr class=\"ALT\" style=\"color:Black;\">\n<td>2018/10</td><td>10.33</td><td> </td>\n</tr><tr style=\"color:Black;\">\n<td>2018/11</td><td>10.71</td><td> </td>\n</tr><tr class=\"ALT\" style=\"color:Black;\">\n<td>2018/12</td><td>11.15</td><td> </td>\n</tr><tr style=\"color:Black;\">\n<td class=\"no-alt\" rowspan=\"1\" style=\"white-space:nowrap;\" valign=\"top\">THC</td><td class=\"no-alt\" rowspan=\"1\" valign=\"top\">ppm</td><td> </td><td> </td><td>無此測項</td>\n</tr><tr class=\"ALT\" style=\"color:Black;\">\n<td class=\"no-alt\" rowspan=\"1\" style=\"white-space:nowrap;\" valign=\"top\">NMHC</td><td class=\"no-alt\" rowspan=\"1\" valign=\"top\">ppm</td><td> </td><td> </td><td>無此測項</td>\n</tr><tr style=\"color:Black;\">\n<td style=\"white-space:nowrap;\">CH4</td><td>ppm</td><td> </td><td> </td><td>無此測項</td>\n</tr>\n</tbody></table>\n"
    }
   ],
   "source": [
    "html_source = browser.page_source\n",
    "soup = BeautifulSoup(html_source, 'lxml')\n",
    "table = soup.find('table', class_='TABLE_G')\n",
    "print(table)"
   ]
  },
  {
   "cell_type": "code",
   "execution_count": 3,
   "metadata": {},
   "outputs": [
    {
     "data": {
      "text/html": "<div>\n<style scoped>\n    .dataframe tbody tr th:only-of-type {\n        vertical-align: middle;\n    }\n\n    .dataframe tbody tr th {\n        vertical-align: top;\n    }\n\n    .dataframe thead th {\n        text-align: right;\n    }\n</style>\n<table border=\"1\" class=\"dataframe\">\n  <thead>\n    <tr style=\"text-align: right;\">\n      <th></th>\n      <th>日期</th>\n      <th>監測值</th>\n    </tr>\n  </thead>\n  <tbody>\n    <tr>\n      <th>0</th>\n      <td>2018/01</td>\n      <td>1.80</td>\n    </tr>\n    <tr>\n      <th>1</th>\n      <td>2018/02</td>\n      <td>1.90</td>\n    </tr>\n    <tr>\n      <th>2</th>\n      <td>2018/03</td>\n      <td>2.20</td>\n    </tr>\n    <tr>\n      <th>3</th>\n      <td>2018/04</td>\n      <td>2.30</td>\n    </tr>\n    <tr>\n      <th>4</th>\n      <td>2018/05</td>\n      <td>3.10</td>\n    </tr>\n    <tr>\n      <th>5</th>\n      <td>2018/06</td>\n      <td>2.70</td>\n    </tr>\n    <tr>\n      <th>6</th>\n      <td>2018/07</td>\n      <td>2.20</td>\n    </tr>\n    <tr>\n      <th>7</th>\n      <td>2018/08</td>\n      <td>2.40</td>\n    </tr>\n  </tbody>\n</table>\n</div>",
      "text/plain": "        日期   監測值\n0  2018/01  1.80\n1  2018/02  1.90\n2  2018/03  2.20\n3  2018/04  2.30\n4  2018/05  3.10\n5  2018/06  2.70\n6  2018/07  2.20\n7  2018/08  2.40"
     },
     "execution_count": 3,
     "metadata": {},
     "output_type": "execute_result"
    }
   ],
   "source": [
    "trs = table.findAll(\"tr\")\n",
    "dic = {}\n",
    "now = \"\"\n",
    "for tr in trs:\n",
    "    tds = tr.findAll(\"td\")\n",
    "    if len(tds) == 5:\n",
    "        now = tds[0].string\n",
    "        dic[now]={}\n",
    "        dic[now][tds[2].string]=tds[3].string\n",
    "    elif len(tds) == 3:\n",
    "        dic[now][tds[0].string]=tds[1].string\n",
    "# print(dic[\"SO2\"])\n",
    "import pandas as pd\n",
    "SO2_dic = [{'日期': key, '監測值': value} for key, value in dic['SO2'].items() if key <= '2018/08' ]\n",
    "pd.DataFrame(SO2_dic)"
   ]
  },
  {
   "cell_type": "markdown",
   "metadata": {},
   "source": [
    "### ② 取出 台北市士林區 2018/01 – 2018/08 的 SO2、CO 資料"
   ]
  },
  {
   "cell_type": "code",
   "execution_count": 4,
   "metadata": {},
   "outputs": [
    {
     "data": {
      "text/html": "<div>\n<style scoped>\n    .dataframe tbody tr th:only-of-type {\n        vertical-align: middle;\n    }\n\n    .dataframe tbody tr th {\n        vertical-align: top;\n    }\n\n    .dataframe thead th {\n        text-align: right;\n    }\n</style>\n<table border=\"1\" class=\"dataframe\">\n  <thead>\n    <tr style=\"text-align: right;\">\n      <th></th>\n      <th>日期</th>\n      <th>CO</th>\n      <th>SO2</th>\n    </tr>\n  </thead>\n  <tbody>\n    <tr>\n      <th>0</th>\n      <td>2018/01</td>\n      <td>0.34</td>\n      <td>1.80</td>\n    </tr>\n    <tr>\n      <th>1</th>\n      <td>2018/02</td>\n      <td>0.44</td>\n      <td>1.90</td>\n    </tr>\n    <tr>\n      <th>2</th>\n      <td>2018/03</td>\n      <td>0.40</td>\n      <td>2.20</td>\n    </tr>\n    <tr>\n      <th>3</th>\n      <td>2018/04</td>\n      <td>0.38</td>\n      <td>2.30</td>\n    </tr>\n    <tr>\n      <th>4</th>\n      <td>2018/05</td>\n      <td>0.34</td>\n      <td>3.10</td>\n    </tr>\n    <tr>\n      <th>5</th>\n      <td>2018/06</td>\n      <td>0.29</td>\n      <td>2.70</td>\n    </tr>\n    <tr>\n      <th>6</th>\n      <td>2018/07</td>\n      <td>0.21</td>\n      <td>2.20</td>\n    </tr>\n    <tr>\n      <th>7</th>\n      <td>2018/08</td>\n      <td>0.30</td>\n      <td>2.40</td>\n    </tr>\n  </tbody>\n</table>\n</div>",
      "text/plain": "        日期    CO   SO2\n0  2018/01  0.34  1.80\n1  2018/02  0.44  1.90\n2  2018/03  0.40  2.20\n3  2018/04  0.38  2.30\n4  2018/05  0.34  3.10\n5  2018/06  0.29  2.70\n6  2018/07  0.21  2.20\n7  2018/08  0.30  2.40"
     },
     "execution_count": 4,
     "metadata": {},
     "output_type": "execute_result"
    }
   ],
   "source": [
    "SO2_dic = [{'日期': key, 'SO2': value} for key, value in dic['SO2'].items() if key <= '2018/08' ]\n",
    "CO_dic = [{'日期': key, 'CO': value} for key, value in dic['CO'].items() if key <= '2018/08' ]\n",
    "# print(SO2_dic)\n",
    "pd.merge(pd.DataFrame(CO_dic),pd.DataFrame(SO2_dic))"
   ]
  },
  {
   "cell_type": "code",
   "execution_count": null,
   "metadata": {},
   "outputs": [],
   "source": []
  }
 ],
 "metadata": {
  "kernelspec": {
   "display_name": "Python 3",
   "language": "python",
   "name": "python3"
  },
  "language_info": {
   "codemirror_mode": {
    "name": "ipython",
    "version": 3
   },
   "file_extension": ".py",
   "mimetype": "text/x-python",
   "name": "python",
   "nbconvert_exporter": "python",
   "pygments_lexer": "ipython3",
   "version": "3.7.6-final"
  }
 },
 "nbformat": 4,
 "nbformat_minor": 2
}