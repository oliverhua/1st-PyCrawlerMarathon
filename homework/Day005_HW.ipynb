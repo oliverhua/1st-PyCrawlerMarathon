{
 "cells": [
  {
   "cell_type": "markdown",
   "metadata": {},
   "source": [
    "# API 資料串接 - 以 Dcard API 實作範例\n",
    "\n",
    "* 了解 Dcard API 使用方式與回傳內容\n",
    "* 撰寫程式存取 API 且解析 JSON 格式資料\n"
   ]
  },
  {
   "cell_type": "markdown",
   "metadata": {},
   "source": [
    "## 作業目標\n",
    "\n",
    "* 請利用 API: https://www.dcard.tw/_api/forums/pet/posts?popular=true 回答下列問題：\n",
    "\n",
    "1. 這個 API 一次會回傳幾筆資料？每一筆資料包含哪些欄位？\n",
    "2. 取出每一筆資料的「標題」、「貼文時間」、「留言人數」、「按讚人數」\n",
    "3. 計算熱門/非熱門文章的「平均留言人數」與「平均按讚人數」"
   ]
  },
  {
   "cell_type": "code",
   "execution_count": 1,
   "metadata": {},
   "outputs": [
    {
     "name": "stdout",
     "output_type": "stream",
     "text": [
      "30\n",
      "id\n",
      "title\n",
      "excerpt\n",
      "anonymousSchool\n",
      "anonymousDepartment\n",
      "pinned\n",
      "forumId\n",
      "replyId\n",
      "createdAt\n",
      "updatedAt\n",
      "commentCount\n",
      "likeCount\n",
      "withNickname\n",
      "tags\n",
      "topics\n",
      "meta\n",
      "forumName\n",
      "forumAlias\n",
      "gender\n",
      "school\n",
      "department\n",
      "replyTitle\n",
      "mediaMeta\n",
      "reactions\n",
      "hidden\n",
      "customStyle\n",
      "isSuspiciousAccount\n",
      "layout\n",
      "withImages\n",
      "withVideos\n",
      "media\n",
      "reportReasonText\n",
      "postAvatar\n"
     ]
    }
   ],
   "source": [
    "# 1. 這個 API 一次會回傳幾筆資料？每一筆資料包含哪些欄位？\n",
    "\n",
    "import requests, json\n",
    "r = requests.get('https://www.dcard.tw/_api/forums/pet/posts?popular=true')\n",
    "response = r.text\n",
    "data = json.loads(response)\n",
    "\n",
    "print(len(data))\n",
    "for i in data[0]:\n",
    "    print(i)"
   ]
  },
  {
   "cell_type": "code",
   "execution_count": 2,
   "metadata": {},
   "outputs": [
    {
     "name": "stdout",
     "output_type": "stream",
     "text": [
      "真的會被萌死🐱 2019-12-24T11:10:59.344Z 11 368\n",
      "該告訴他真相嗎！ 2019-12-24T14:38:59.024Z 8 261\n",
      "#有影 我的🐹竟然會看鏡頭... 2019-12-24T00:57:48.497Z 19 178\n",
      "#美短 太溫柔的貓 2019-12-24T09:00:56.662Z 5 133\n",
      "小姐！這樣睡真的有舒服嗎 2019-12-24T02:48:34.479Z 1 79\n",
      "女大18變 2019-12-24T15:45:25.430Z 6 45\n",
      "鼠鼠過聖誕🔔（🐭：メリークリスマス🎄） 2019-12-24T08:09:08.830Z 3 38\n",
      "熊貓？ 2019-12-24T16:45:36.058Z 8 30\n",
      "霸氣貓87貓？！ 2019-12-24T07:18:01.541Z 5 30\n",
      "現在的人真的很可憐 2019-12-24T04:59:12.991Z 7 25\n",
      "新買的converse 試穿分享 2019-12-25T01:17:54.898Z 1 23\n",
      "貓需要洗澡嗎？ 2019-12-24T01:44:52.963Z 10 20\n",
      "貓咪也是需要濾鏡的 2019-12-24T13:45:25.489Z 6 19\n",
      "貓真的太吵 2019-12-24T21:41:09.093Z 16 18\n",
      "請問他的品種是？求高人指點 2019-12-24T01:47:27.708Z 7 18\n",
      "#貓 聖誕節裝扮 2019-12-24T06:00:57.652Z 2 17\n",
      "平安夜 睡得好香甜 2019-12-24T14:16:36.715Z 1 13\n",
      "狗狗不見了！拜託頂上去🙏🏻😭 2019-12-25T09:51:25.457Z 2 11\n",
      "圖多 聖誕特輯寫真分享 2019-12-24T11:00:47.760Z 2 11\n",
      "集氣！可憐的熊貓 2019-12-24T07:08:15.747Z 2 11\n",
      "聖誕快樂🎄🎁🎅🏻喵喵喵 2019-12-25T08:52:51.946Z 3 10\n",
      "瘋狗薛薛的日常醜照 2019-12-25T02:46:07.033Z 5 9\n",
      "好啦，襪子掛好，聖誕節快樂🎄 2019-12-24T09:53:53.310Z 1 8\n",
      "主要只是想曬柯基 2019-12-24T12:51:42.385Z 5 7\n",
      "詢問狗品種 2019-12-24T15:07:29.817Z 1 6\n",
      "#問卷 期末互相幫助拜託拜託 2019-12-24T13:58:41.562Z 3 6\n",
      "喜歡自拍的小帥哥 2019-12-24T06:23:55.555Z 0 6\n",
      "貓咪耳朵下垂 2019-12-24T03:27:08.779Z 3 6\n",
      "聖誕快樂！ 2019-12-25T10:38:21.098Z 0 5\n",
      "養寵物（文鳥），一路以來遇到的傷心事。 2019-12-25T07:08:51.939Z 0 5\n"
     ]
    }
   ],
   "source": [
    "# 2. 取出每一筆資料的「標題」、「貼文時間」、「留言人數」、「按讚人數」\n",
    "\n",
    "for i in data:\n",
    "    print(i['title'],i['createdAt'],i['commentCount'],i['likeCount'])"
   ]
  },
  {
   "cell_type": "code",
   "execution_count": 3,
   "metadata": {},
   "outputs": [
    {
     "name": "stdout",
     "output_type": "stream",
     "text": [
      "4.766666666666667 47.2 3.8 16.1\n"
     ]
    }
   ],
   "source": [
    "# 3. 計算熱門/非熱門文章的「平均留言人數」與「平均按讚人數」\n",
    "commentSum = 0\n",
    "likeSum = 0\n",
    "n_commentSum = 0\n",
    "n_likeSum = 0\n",
    "for i in data:\n",
    "    commentSum += i['commentCount']\n",
    "    likeSum += i['likeCount']\n",
    "commentSum /= len(data)\n",
    "likeSum /= len(data)\n",
    "\n",
    "np = requests.get('https://www.dcard.tw/_api/forums/pet/posts?popular=false')\n",
    "npr = np.text\n",
    "np_data = json.loads(npr)\n",
    "\n",
    "for i in np_data:\n",
    "    n_commentSum += i['commentCount']\n",
    "    n_likeSum += i['likeCount']\n",
    "n_commentSum /= len(np_data)\n",
    "n_likeSum /= len(data)\n",
    "\n",
    "print(commentSum, likeSum, n_commentSum, n_likeSum)"
   ]
  }
 ],
 "metadata": {
  "kernelspec": {
   "display_name": "Python 3",
   "language": "python",
   "name": "python3"
  },
  "language_info": {
   "codemirror_mode": {
    "name": "ipython",
    "version": 3
   },
   "file_extension": ".py",
   "mimetype": "text/x-python",
   "name": "python",
   "nbconvert_exporter": "python",
   "pygments_lexer": "ipython3",
   "version": "3.7.5"
  }
 },
 "nbformat": 4,
 "nbformat_minor": 2
}
